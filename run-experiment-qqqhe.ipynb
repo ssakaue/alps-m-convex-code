{
 "cells": [
  {
   "cell_type": "code",
   "execution_count": 1,
   "metadata": {},
   "outputs": [],
   "source": [
    "import numpy as np\n",
    "np.set_printoptions(formatter={'float': '{: 0.3f}'.format})\n",
    "\n",
    "import pickle\n",
    "import pandas as pd\n",
    "import time\n",
    "\n",
    "from utils import greedy, simplex_projection, integer_initial_vector\n",
    "from continuous import solve_continuous_quadratic"
   ]
  },
  {
   "cell_type": "code",
   "execution_count": 2,
   "metadata": {},
   "outputs": [
    {
     "name": "stdout",
     "output_type": "stream",
     "text": [
      "start!\n",
      "27.997467279434204 4881\n",
      "28.067294120788574 4892\n"
     ]
    },
    {
     "ename": "NameError",
     "evalue": "name 'beta' is not defined",
     "output_type": "error",
     "traceback": [
      "\u001b[0;31m---------------------------------------------------------------------------\u001b[0m",
      "\u001b[0;31mNameError\u001b[0m                                 Traceback (most recent call last)",
      "Cell \u001b[0;32mIn[2], line 47\u001b[0m\n\u001b[1;32m     38\u001b[0m             pred \u001b[39m=\u001b[39m (pred\u001b[39m*\u001b[39m(t\u001b[39m+\u001b[39m\u001b[39m1\u001b[39m) \u001b[39m+\u001b[39m y)\u001b[39m/\u001b[39m(t\u001b[39m+\u001b[39m\u001b[39m2\u001b[39m)\n\u001b[1;32m     40\u001b[0m             \u001b[39m# Relax            \u001b[39;00m\n\u001b[1;32m     41\u001b[0m             \u001b[39m# qsol, time_qc = solve_continuous_quadratic(G)\u001b[39;00m\n\u001b[1;32m     42\u001b[0m             \u001b[39m# start = time.time()\u001b[39;00m\n\u001b[1;32m     43\u001b[0m             \u001b[39m# itr_q, _ = greedy(qsol, G)\u001b[39;00m\n\u001b[1;32m     44\u001b[0m             \u001b[39m# time_qg = time.time() - start\u001b[39;00m\n\u001b[1;32m     45\u001b[0m             \u001b[39m# time_q = time_qc + time_qg\u001b[39;00m\n\u001b[0;32m---> 47\u001b[0m             results\u001b[39m.\u001b[39mappend([alpha, beta, trial, t, itr_c, itr_p, itr_q, time_c, time_p, time_q, time_qc, time_qg])\n\u001b[1;32m     49\u001b[0m             \u001b[39mprint\u001b[39m(alpha, beta, trial, t, itr_c, itr_p, itr_q, time_c, time_p, time_q, time_qc, time_qg)\n\u001b[1;32m     51\u001b[0m \u001b[39m# create a DataFrame from the results list\u001b[39;00m\n",
      "\u001b[0;31mNameError\u001b[0m: name 'beta' is not defined"
     ]
    }
   ],
   "source": [
    "obj = 'crash'\n",
    "setting = 'n800'\n",
    "\n",
    "results = []\n",
    "for alpha in [0.01, 0.1, 1]:\n",
    "    params = np.load(f'data/{obj}-{setting}/o{alpha}/params.npz')\n",
    "    n = params['n']\n",
    "    R = params['R']\n",
    "\n",
    "    for trial in range(10):\n",
    "        yinit = integer_initial_vector(n, R)\n",
    "        y = integer_initial_vector(n, R)\n",
    "        pred = integer_initial_vector(n, R)\n",
    "\n",
    "        for t in range(100):\n",
    "            with open(f'data/{obj}-{setting}/o{alpha}/{trial*100+t}.pkl', 'rb') as f:\n",
    "                G = pickle.load(f)\n",
    "\n",
    "            print('start!')\n",
    "\n",
    "            # Cold\n",
    "            start = time.time()\n",
    "            itr_c, _ = greedy(yinit, G)\n",
    "            time_c = time.time() - start\n",
    "\n",
    "            print(time_c, itr_c)\n",
    "\n",
    "            # Learn\n",
    "            start = time.time()\n",
    "            itr_p, x = greedy(pred, G)\n",
    "            time_p = time.time() - start\n",
    "\n",
    "            print(time_p, itr_p)\n",
    "\n",
    "            # online subgradient descent update\n",
    "            y += .01 * (R/np.sqrt(n)) * np.sign(x - y)\n",
    "            y = simplex_projection(y, R)\n",
    "            pred = (pred*(t+1) + y)/(t+2)\n",
    "\n",
    "            # Relax            \n",
    "            # qsol, time_qc = solve_continuous_quadratic(G)\n",
    "            # start = time.time()\n",
    "            # itr_q, _ = greedy(qsol, G)\n",
    "            # time_qg = time.time() - start\n",
    "            # time_q = time_qc + time_qg\n",
    "\n",
    "            results.append([alpha, beta, trial, t, itr_c, itr_p, itr_q, time_c, time_p, time_q, time_qc, time_qg])\n",
    "\n",
    "            print(alpha, beta, trial, t, itr_c, itr_p, itr_q, time_c, time_p, time_q, time_qc, time_qg)\n",
    "\n",
    "# create a DataFrame from the results list\n",
    "df = pd.DataFrame(results, columns=['alpha', 'beta', 'trial', 't', 'itr_c', 'itr_p', 'itr_q', 'time_c', 'time_p', 'time_q', 'time_qc', 'time_qg'])\n",
    "#save df as pickle in result folder\n",
    "df.to_pickle(f'result/{obj}-{setting}.pkl')"
   ]
  }
 ],
 "metadata": {
  "kernelspec": {
   "display_name": "Python 3",
   "language": "python",
   "name": "python3"
  },
  "language_info": {
   "codemirror_mode": {
    "name": "ipython",
    "version": 3
   },
   "file_extension": ".py",
   "mimetype": "text/x-python",
   "name": "python",
   "nbconvert_exporter": "python",
   "pygments_lexer": "ipython3",
   "version": "3.9.6"
  },
  "orig_nbformat": 4
 },
 "nbformat": 4,
 "nbformat_minor": 2
}
