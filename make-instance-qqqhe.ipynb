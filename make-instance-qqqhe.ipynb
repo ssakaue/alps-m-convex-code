{
 "cells": [
  {
   "cell_type": "code",
   "execution_count": 1,
   "metadata": {},
   "outputs": [],
   "source": [
    "import os\n",
    "import copy\n",
    "\n",
    "import json\n",
    "import networkx as nx\n",
    "import numpy as np\n",
    "import pickle"
   ]
  },
  {
   "cell_type": "code",
   "execution_count": 2,
   "metadata": {},
   "outputs": [],
   "source": [
    "obj = 'crash'\n",
    "n = 800\n",
    "\n",
    "with open(f'./qqqhe/test_instances/1589214682686/Instance{obj}/VB=100/n={n}/{obj}_VB=100_n={n}_0.json') as f:\n",
    "    dict = json.load(f)\n",
    "\n",
    "G = nx.path_graph(n)\n",
    "G.add_nodes_from(range(n, 2*n - 1))\n",
    "\n",
    "for i in range(n, 2*n-1):\n",
    "    G.add_edge(i, 2*n-2-i)\n",
    "\n",
    "for i in G.nodes():\n",
    "    neighbors = list(G.neighbors(i))\n",
    "    G.nodes[i]['children'] = [x for x in neighbors if x > i]\n",
    "    G.nodes[i]['parent'] = [x for x in neighbors if x < i]\n",
    "\n",
    "# Leaves\n",
    "for i in range(n):\n",
    "    G.nodes[i+n-1]['l'] = dict['lbVar'][i]\n",
    "    G.nodes[i+n-1]['u'] = dict['capacity'][i]\n",
    "    G.nodes[i+n-1]['obj'] = obj\n",
    "    G.nodes[i+n-1]['param'] = {'a': dict['cost_param_a'][i], 'b': dict['cost_param_b'][i]}\n",
    "\n",
    "# Inner nodes\n",
    "for i in range(n-1):\n",
    "    G.nodes[i]['l'] = dict['lbNested'][n-i-1]\n",
    "    G.nodes[i]['u'] = dict['ubNested'][n-i-1]\n",
    "    G.nodes[i]['obj'] = 'zero'\n",
    "    G.nodes[i]['param'] = {}\n",
    "\n",
    "# Modify the bounds on `x(0)` to reflect bounds for the singleton `{x(0)}`\n",
    "G.nodes[n-1]['l'] = max(G.nodes[n-1]['l'], dict['lbNested'][0])\n",
    "G.nodes[n-1]['u'] = min(G.nodes[n-1]['u'], dict['ubNested'][0])"
   ]
  },
  {
   "cell_type": "code",
   "execution_count": null,
   "metadata": {},
   "outputs": [],
   "source": [
    "from utils import greedy, integer_initial_vector\n",
    "\n",
    "yinit = integer_initial_vector(n, R)\n",
    "greedy(yinit, G)"
   ]
  },
  {
   "cell_type": "code",
   "execution_count": 3,
   "metadata": {},
   "outputs": [],
   "source": [
    "R = G.nodes[0]['l']\n",
    "\n",
    "# add random weights\n",
    "for alpha in [0.01, 0.1, 1]:\n",
    "\n",
    "    new_directory_path = f'data/{obj}-n{n}/o{alpha}'\n",
    "    if not os.path.exists(new_directory_path):\n",
    "        os.makedirs(new_directory_path)\n",
    "\n",
    "    for t in range(1000):\n",
    "        Gt = copy.deepcopy(G)\n",
    "        for i in G.nodes():\n",
    "            if 'a' in Gt.nodes[i]['param']:\n",
    "                Gt.nodes[i]['param']['a'] += np.random.randn(1)[0] * alpha\n",
    "                Gt.nodes[i]['param']['a'] = max(0, Gt.nodes[i]['param']['a']) # `a` must be non-negative\n",
    "            if 'b' in Gt.nodes[i]['param']:\n",
    "                Gt.nodes[i]['param']['b'] += np.random.randn(1)[0] * alpha    # `b` can be negative\n",
    "        with open(f'{new_directory_path}/{t}.pkl', 'wb') as f:\n",
    "            pickle.dump(Gt, f)\n",
    "\n",
    "    #save params\n",
    "    np.savez(f'{new_directory_path}/params.npz', n=n, R=R)"
   ]
  }
 ],
 "metadata": {
  "kernelspec": {
   "display_name": "Python 3",
   "language": "python",
   "name": "python3"
  },
  "language_info": {
   "codemirror_mode": {
    "name": "ipython",
    "version": 3
   },
   "file_extension": ".py",
   "mimetype": "text/x-python",
   "name": "python",
   "nbconvert_exporter": "python",
   "pygments_lexer": "ipython3",
   "version": "3.11.4"
  },
  "orig_nbformat": 4
 },
 "nbformat": 4,
 "nbformat_minor": 2
}
