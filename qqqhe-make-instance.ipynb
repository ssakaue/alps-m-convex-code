{
 "cells": [
  {
   "cell_type": "code",
   "execution_count": 1,
   "metadata": {},
   "outputs": [],
   "source": [
    "import os\n",
    "import numpy as np\n",
    "import pickle\n",
    "from qqqhe_utils import param_to_data, data_to_tree\n",
    "\n",
    "rng = np.random.default_rng()\n"
   ]
  },
  {
   "cell_type": "code",
   "execution_count": 2,
   "metadata": {},
   "outputs": [],
   "source": [
    "n = 100   # number of variables\n",
    "Vb = 100  # maximum upper bound of variables\n",
    "\n",
    "d = list(rng.integers(low=1, high=Vb+1, size=n))\n",
    "Xv = [rng.integers(low=1, high=d[i]+1) for i in range(n)]\n",
    "Xw = [rng.integers(low=1, high=d[i]+1) for i in range(n)]\n",
    "a = list(rng.random(n))\n",
    "b = list(rng.uniform(low=-1, high=1, size=n))\n",
    "\n",
    "for obj in ['f', 'crash', 'fuel']:\n",
    "    data = param_to_data(obj, d, Xv, Xw, a, b)\n",
    "    R = data['ubNested'][n-1]\n",
    "\n",
    "    for alpha in [0.1, 0.2, 0.5, 1, 2, 5, 10]:\n",
    "        new_directory_path = f'data/{obj}-n{n}/o{alpha}'\n",
    "        if not os.path.exists(new_directory_path):\n",
    "            os.makedirs(new_directory_path)\n",
    "\n",
    "        np.savez(f'{new_directory_path}/params.npz', n=n, R=R)\n",
    "\n",
    "        for t in range(1000):\n",
    "            dt = [int(np.clip(np.rint(rng.normal(d[i], alpha)), 1, Vb)) for i in range(n)]\n",
    "            Xvt = [int(np.clip(np.rint(rng.normal(Xv[i], alpha)), 1, dt[i])) for i in range(n)]\n",
    "            Xwt = [int(np.clip(np.rint(rng.normal(Xw[i], alpha)), 1, dt[i])) for i in range(n)]\n",
    "\n",
    "            at = [max(0, rng.normal(a[i], 0.01 * alpha)) for i in range(n)]\n",
    "            bt = [rng.normal(b[i], 0.01 * alpha) for i in range(n)]\n",
    "\n",
    "            data = param_to_data(obj, dt, Xvt, Xwt, at, bt)\n",
    "            Gt = data_to_tree(data)\n",
    "\n",
    "            with open(f'{new_directory_path}/{t}.pkl', 'wb') as f:\n",
    "                pickle.dump(Gt, f)"
   ]
  }
 ],
 "metadata": {
  "kernelspec": {
   "display_name": "Python 3",
   "language": "python",
   "name": "python3"
  },
  "language_info": {
   "codemirror_mode": {
    "name": "ipython",
    "version": 3
   },
   "file_extension": ".py",
   "mimetype": "text/x-python",
   "name": "python",
   "nbconvert_exporter": "python",
   "pygments_lexer": "ipython3",
   "version": "3.9.6"
  },
  "orig_nbformat": 4
 },
 "nbformat": 4,
 "nbformat_minor": 2
}
