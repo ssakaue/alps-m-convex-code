{
 "cells": [
  {
   "cell_type": "code",
   "execution_count": 1,
   "metadata": {},
   "outputs": [],
   "source": [
    "import os\n",
    "\n",
    "import numpy as np\n",
    "np.set_printoptions(formatter={'float': '{: 0.3f}'.format})\n",
    "\n",
    "import networkx as nx\n",
    "import pickle"
   ]
  },
  {
   "cell_type": "code",
   "execution_count": 4,
   "metadata": {},
   "outputs": [],
   "source": [
    "n = 2**7\n",
    "setting = f'n{n}'\n",
    "\n",
    "G = nx.balanced_tree(2, int(np.log2(n)))\n",
    "\n",
    "for i in G.nodes():\n",
    "    neighbors = list(G.neighbors(i))\n",
    "    G.nodes[i]['children'], G.nodes[i]['parent'] = [x for x in neighbors if x > i], [x for x in neighbors if x < i]\n",
    "\n",
    "for i in G.nodes():\n",
    "    G.nodes[i]['obj'] = 'staff'\n",
    "    G.nodes[i]['param'] = {}\n",
    "\n",
    "leaves = [x for x in G.nodes() if len(G.nodes[x]['children']) == 0]\n",
    "for i in list(G.nodes())[::-1]:\n",
    "    if len(G.nodes[i]['children']) == 0:\n",
    "        G.nodes[i]['param']['w'] = i - leaves[0] + 1\n",
    "    else:\n",
    "        G.nodes[i]['param']['w'] = G.nodes[G.nodes[i]['children'][0]]['param']['w'] + G.nodes[G.nodes[i]['children'][1]]['param']['w']\n",
    "\n",
    "levels = {0:0}\n",
    "for i in G.nodes():\n",
    "    if len(G.nodes[i]['parent']) == 0:\n",
    "        continue\n",
    "    levels[i] = levels[G.nodes[i]['parent'][0]] + 1\n",
    "\n",
    "R = n*100 # 100 members for each task on average\n",
    "G.nodes[0]['l'] = R\n",
    "G.nodes[0]['u'] = R\n",
    "\n",
    "for i in list(G.nodes())[:0:-1]:\n",
    "    if len(G.nodes[i]['children']) == 0:\n",
    "        G.nodes[i]['l'] = 1\n",
    "        G.nodes[i]['u'] = R\n",
    "    else:\n",
    "        l1, l2 = G.nodes[G.nodes[i]['children'][0]]['l'], G.nodes[G.nodes[i]['children'][1]]['l']\n",
    "        G.nodes[i]['l'] = l1 + l2\n",
    "        G.nodes[i]['u'] = R\n",
    "\n",
    "ab_list = [(1,10), (1,50), (5,10), (5,50), (10,10), (10,50), (20,10), (20,50)]\n",
    "\n",
    "# add random weights\n",
    "for alpha, beta in ab_list:\n",
    "\n",
    "    new_directory_path = f'data/{setting}/o{alpha}_c{beta}'\n",
    "    if not os.path.exists(new_directory_path):\n",
    "        os.makedirs(new_directory_path)\n",
    "\n",
    "    for t in range(1000):\n",
    "        Gt = G.copy()\n",
    "        for i in G.nodes():\n",
    "            Gt.nodes[i]['param']['w'] += np.random.randn(1)[0] * alpha\n",
    "            Gt.nodes[i]['param']['w'] = max(Gt.nodes[i]['param']['w'], 1)\n",
    "            Gt.nodes[i]['l'] += np.random.randint(0, beta+1) \n",
    "            Gt.nodes[i]['l'] = min(Gt.nodes[i]['l'], int(R/2**(levels[i]))) # take min to ensure feasibility\n",
    "        with open(f'{new_directory_path}/{t}.pkl', 'wb') as f:\n",
    "            pickle.dump(Gt, f)\n",
    "    \n",
    "    #save params\n",
    "    np.savez(f'{new_directory_path}/params.npz', n=n, R=R)"
   ]
  }
 ],
 "metadata": {
  "kernelspec": {
   "display_name": "base",
   "language": "python",
   "name": "python3"
  },
  "language_info": {
   "codemirror_mode": {
    "name": "ipython",
    "version": 3
   },
   "file_extension": ".py",
   "mimetype": "text/x-python",
   "name": "python",
   "nbconvert_exporter": "python",
   "pygments_lexer": "ipython3",
   "version": "3.11.4"
  },
  "orig_nbformat": 4
 },
 "nbformat": 4,
 "nbformat_minor": 2
}
