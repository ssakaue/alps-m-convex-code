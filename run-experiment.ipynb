{
 "cells": [
  {
   "cell_type": "code",
   "execution_count": 1,
   "metadata": {},
   "outputs": [],
   "source": [
    "import numpy as np\n",
    "np.set_printoptions(formatter={'float': '{: 0.3f}'.format})\n",
    "\n",
    "import pickle\n",
    "import pandas as pd\n",
    "import time\n",
    "\n",
    "from utils import greedy, simplex_projection\n",
    "from continuous import solve_continuous_quadratic"
   ]
  },
  {
   "cell_type": "code",
   "execution_count": 5,
   "metadata": {},
   "outputs": [
    {
     "name": "stdout",
     "output_type": "stream",
     "text": [
      "1 10 0 0 1870 1870 782 1.5071940422058105 1.827415943145752 0.9647650718688965 0.007309913635253906 0.9574551582336426\n",
      "1 10 0 1 1863 1561 764 2.276948928833008 1.7587931156158447 0.9312336444854736 0.006430864334106445 0.9248027801513672\n"
     ]
    },
    {
     "ename": "KeyboardInterrupt",
     "evalue": "",
     "output_type": "error",
     "traceback": [
      "\u001b[0;31m---------------------------------------------------------------------------\u001b[0m",
      "\u001b[0;31mKeyboardInterrupt\u001b[0m                         Traceback (most recent call last)",
      "Cell \u001b[0;32mIn[5], line 26\u001b[0m\n\u001b[1;32m     24\u001b[0m \u001b[39m# Learn\u001b[39;00m\n\u001b[1;32m     25\u001b[0m start \u001b[39m=\u001b[39m time\u001b[39m.\u001b[39mtime()\n\u001b[0;32m---> 26\u001b[0m itr_p, x \u001b[39m=\u001b[39m greedy(pred, G)\n\u001b[1;32m     27\u001b[0m time_p \u001b[39m=\u001b[39m time\u001b[39m.\u001b[39mtime() \u001b[39m-\u001b[39m start\n\u001b[1;32m     29\u001b[0m \u001b[39m# online subgradient descent update\u001b[39;00m\n",
      "File \u001b[0;32m~/Library/CloudStorage/Dropbox/research/2023/alps-m-convex/alps-m-convex-code/utils.py:125\u001b[0m, in \u001b[0;36mgreedy\u001b[0;34m(pred, G)\u001b[0m\n\u001b[1;32m    123\u001b[0m \u001b[39mwhile\u001b[39;00m \u001b[39mTrue\u001b[39;00m:\n\u001b[1;32m    124\u001b[0m     itr \u001b[39m+\u001b[39m\u001b[39m=\u001b[39m \u001b[39m1\u001b[39m\n\u001b[0;32m--> 125\u001b[0m     dec, (i, j) \u001b[39m=\u001b[39m direction(x, G)\n\u001b[1;32m    126\u001b[0m     \u001b[39mif\u001b[39;00m dec \u001b[39m>\u001b[39m\u001b[39m=\u001b[39m \u001b[39m-\u001b[39m\u001b[39m1e-5\u001b[39m:\n\u001b[1;32m    127\u001b[0m         \u001b[39mbreak\u001b[39;00m\n",
      "File \u001b[0;32m~/Library/CloudStorage/Dropbox/research/2023/alps-m-convex/alps-m-convex-code/utils.py:108\u001b[0m, in \u001b[0;36mdirection\u001b[0;34m(x, G)\u001b[0m\n\u001b[1;32m    106\u001b[0m Pu[i] \u001b[39m=\u001b[39m Pu[c1] \u001b[39mif\u001b[39;00m Lu[c1] \u001b[39m+\u001b[39m wdict[(c1, i)] \u001b[39m<\u001b[39m\u001b[39m=\u001b[39m Lu[c2] \u001b[39m+\u001b[39m wdict[(c2, i)] \u001b[39melse\u001b[39;00m Pu[c2]\n\u001b[1;32m    107\u001b[0m Ld[i] \u001b[39m=\u001b[39m \u001b[39mmin\u001b[39m(Ld[c1] \u001b[39m+\u001b[39m wdict[(i, c1)], Ld[c2] \u001b[39m+\u001b[39m wdict[(i, c2)])\n\u001b[0;32m--> 108\u001b[0m Pd[i] \u001b[39m=\u001b[39m Pd[c1] \u001b[39mif\u001b[39;00m Ld[c1] \u001b[39m+\u001b[39;49m wdict[(i, c1)] \u001b[39m<\u001b[39m\u001b[39m=\u001b[39m Ld[c2] \u001b[39m+\u001b[39m wdict[(i, c2)] \u001b[39melse\u001b[39;00m Pd[c2]\n\u001b[1;32m    109\u001b[0m Ls[i] \u001b[39m=\u001b[39m \u001b[39mmin\u001b[39m([Ls[c1], Ls[c2], Lu[i]\u001b[39m+\u001b[39mLd[i]])\n\u001b[1;32m    110\u001b[0m \u001b[39mif\u001b[39;00m Ls[c1] \u001b[39m==\u001b[39m Ls[i]:\n",
      "\u001b[0;31mKeyboardInterrupt\u001b[0m: "
     ]
    }
   ],
   "source": [
    "setting = 'n128'\n",
    "ab_list = [(1,10), (1,50), (5,10), (5,50), (10,10), (10,50), (20,10), (20,50)]\n",
    "\n",
    "results = []\n",
    "for alpha, beta in ab_list:\n",
    "    params = np.load(f'data/staff-{setting}/o{alpha}_c{beta}/params.npz')\n",
    "    n = params['n']\n",
    "    R = params['R']\n",
    "\n",
    "    for trial in range(10):\n",
    "        yinit = np.ones(n)*R/n\n",
    "        y = np.ones(n)*R/n\n",
    "        pred = np.ones(n)*R/n\n",
    "\n",
    "        for t in range(100):\n",
    "            with open(f'data/staff-{setting}/o{alpha}_c{beta}/{trial*100+t}.pkl', 'rb') as f:\n",
    "                G = pickle.load(f)\n",
    "\n",
    "            # Cold\n",
    "            start = time.time()\n",
    "            itr_c, _ = greedy(yinit, G)\n",
    "            time_c = time.time() - start\n",
    "\n",
    "            # Learn\n",
    "            start = time.time()\n",
    "            itr_p, x = greedy(pred, G)\n",
    "            time_p = time.time() - start\n",
    "\n",
    "            # online subgradient descent update\n",
    "            y += .01 * (R/np.sqrt(n)) * np.sign(x - y)\n",
    "            y = simplex_projection(y, R)\n",
    "            pred = (pred*(t+1) + y)/(t+2)\n",
    "\n",
    "            # Relax            \n",
    "            qsol, time_qc = solve_continuous_quadratic(G)\n",
    "            start = time.time()\n",
    "            itr_q, _ = greedy(qsol, G)\n",
    "            time_qg = time.time() - start\n",
    "            time_q = time_qc + time_qg\n",
    "\n",
    "            results.append([alpha, beta, trial, t, itr_c, itr_p, itr_q, time_c, time_p, time_q, time_qc, time_qg])\n",
    "\n",
    "            print(alpha, beta, trial, t, itr_c, itr_p, itr_q, time_c, time_p, time_q, time_qc, time_qg)\n",
    "\n",
    "# create a DataFrame from the results list\n",
    "df = pd.DataFrame(results, columns=['alpha', 'beta', 'trial', 't', 'itr_c', 'itr_p', 'itr_q', 'time_c', 'time_p', 'time_q', 'time_qc', 'time_qg'])\n",
    "#save df as pickle in result folder\n",
    "df.to_pickle(f'result/staff-{setting}.pkl')"
   ]
  }
 ],
 "metadata": {
  "kernelspec": {
   "display_name": "base",
   "language": "python",
   "name": "python3"
  },
  "language_info": {
   "codemirror_mode": {
    "name": "ipython",
    "version": 3
   },
   "file_extension": ".py",
   "mimetype": "text/x-python",
   "name": "python",
   "nbconvert_exporter": "python",
   "pygments_lexer": "ipython3",
   "version": "3.9.6"
  },
  "orig_nbformat": 4
 },
 "nbformat": 4,
 "nbformat_minor": 2
}
