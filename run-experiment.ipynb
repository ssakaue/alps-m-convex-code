{
 "cells": [
  {
   "cell_type": "code",
   "execution_count": 1,
   "metadata": {},
   "outputs": [],
   "source": [
    "import numpy as np\n",
    "np.set_printoptions(formatter={'float': '{: 0.3f}'.format})\n",
    "\n",
    "import pickle\n",
    "import pandas as pd\n",
    "import time\n",
    "\n",
    "from utils import greedy, simplex_projection\n",
    "from continuous import solve_continuous_quadratic"
   ]
  },
  {
   "cell_type": "code",
   "execution_count": null,
   "metadata": {},
   "outputs": [],
   "source": [
    "setting = 'n128'\n",
    "ab_list = [(1,10), (1,50), (5,10), (5,50), (10,10), (10,50), (20,10), (20,50)]\n",
    "\n",
    "results = []\n",
    "for alpha, beta in ab_list:\n",
    "    params = np.load(f'data/{setting}/o{alpha}_c{beta}/params.npz')\n",
    "    n = params['n']\n",
    "    R = params['R']\n",
    "\n",
    "    for trial in range(10):\n",
    "        yinit = np.ones(n)*R/n\n",
    "        y = np.ones(n)*R/n\n",
    "        pred = np.ones(n)*R/n\n",
    "\n",
    "        for t in range(100):\n",
    "            with open(f'data/{setting}/o{alpha}_c{beta}/{trial*100+t}.pkl', 'rb') as f:\n",
    "                G = pickle.load(f)\n",
    "\n",
    "            start = time.time()\n",
    "            itr_c, _ = greedy(yinit, G)\n",
    "            time_c = time.time() - start\n",
    "\n",
    "            start = time.time()\n",
    "            itr_p, x = greedy(pred, G)\n",
    "            time_p = time.time() - start\n",
    "            \n",
    "            qsol, time_qc = solve_continuous_quadratic(G)\n",
    "            start = time.time()\n",
    "            itr_q, _ = greedy(qsol, G)\n",
    "            time_qg = time.time() - start\n",
    "            time_q = time_qc + time_qg\n",
    "\n",
    "            results.append([alpha, beta, trial, t, itr_c, itr_p, itr_q, time_c, time_p, time_q, time_qc, time_qg])\n",
    "\n",
    "            y += .01 * (R/np.sqrt(n)) * np.sign(x - y)\n",
    "            y = simplex_projection(y, R)\n",
    "            \n",
    "            pred = (pred*(t+1) + y)/(t+2)\n",
    "            print(alpha, beta, trial, t, itr_c, itr_p, itr_q, time_c, time_p, time_q, time_qc, time_qg)\n",
    "\n",
    "# create a DataFrame from the results list\n",
    "df = pd.DataFrame(results, columns=['alpha', 'beta', 'trial', 't', 'itr_c', 'itr_p', 'itr_q', 'time_c', 'time_p', 'time_q', 'time_qc', 'time_qg'])\n",
    "#save df as pickle in result folder\n",
    "df.to_pickle(f'result/{setting}.pkl')"
   ]
  }
 ],
 "metadata": {
  "kernelspec": {
   "display_name": "base",
   "language": "python",
   "name": "python3"
  },
  "language_info": {
   "codemirror_mode": {
    "name": "ipython",
    "version": 3
   },
   "file_extension": ".py",
   "mimetype": "text/x-python",
   "name": "python",
   "nbconvert_exporter": "python",
   "pygments_lexer": "ipython3",
   "version": "3.9.12"
  },
  "orig_nbformat": 4
 },
 "nbformat": 4,
 "nbformat_minor": 2
}
